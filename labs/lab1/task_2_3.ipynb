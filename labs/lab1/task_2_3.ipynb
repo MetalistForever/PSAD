{
 "cells": [
  {
   "cell_type": "code",
   "execution_count": 2,
   "metadata": {},
   "outputs": [],
   "source": [
    "import pandas as pd\n",
    "import itertools\n",
    "import seaborn as sns\n",
    "from matplotlib import pyplot as plt\n",
    "import numpy as np\n",
    "import collections\n",
    "import warnings\n",
    "warnings.filterwarnings('ignore')"
   ]
  },
  {
   "cell_type": "markdown",
   "metadata": {},
   "source": [
    "Сначала проверим выборку на нормальность. Для этого применяем критерий Шапиро-Уилка:\n",
    "\n",
    "- *Постановка задачи*: имеет место альтернатива\n",
    "$$\n",
    "\\begin{align*}\n",
    "    H_0: & X \\sim N(\\mu, \\sigma^2), \\\\\n",
    "    H_1: & H_0 \\text{ неверна}.\n",
    "\\end{align*}\n",
    "$$\n",
    "\n",
    "- *Рассчет статистики*: $$W(X^n) = \\dfrac{\\left(\\sum \\limits_{i = 1}^n a_i X_{(i)}\\right)^2}{\\sum \\limits_{i = 1}^n (X_i - \\overline{X})^2}.$$\n",
    "\n",
    "В нашем случае имеем (значения $a_i$ взяты из таблиц отсюда https://real-statistics.com/statistics-tables/shapiro-wilk-table$) имеем:"
   ]
  },
  {
   "cell_type": "code",
   "execution_count": 3,
   "metadata": {},
   "outputs": [
    {
     "name": "stdout",
     "output_type": "stream",
     "text": [
      "Отсортированные по возрастанию данные: [ 3  5  6  6  7 10 13 15 18 22]\n",
      "Среднее по выборке: 10.5\n",
      "Значение статистики: 0.9226972119605077\n"
     ]
    }
   ],
   "source": [
    "data = np.array([3, 22, 13, 6, 18, 5, 6, 10, 7, 15])\n",
    "\n",
    "n = len(data)\n",
    "\n",
    "sorted_data = np.sort(data)\n",
    "print('Отсортированные по возрастанию данные: {}'.format(sorted_data))\n",
    "\n",
    "mu = np.mean(data)\n",
    "print('Среднее по выборке: {}'.format(mu))\n",
    "\n",
    "coeffs = np.array([0.5739, 0.3291, 0.2141, 0.1224, 0.0399, -0.0399, -0.1224, -0.2141, -0.3291, -0.5739])\n",
    "\n",
    "W = (np.sum(coeffs * sorted_data)**2)/(np.sum((data - mu)**2))\n",
    "print('Значение статистики: {}'.format(W))"
   ]
  },
  {
   "cell_type": "markdown",
   "metadata": {},
   "source": [
    "Для уровня значимости $\\alpha = 0.05$ при $n = 10$ получаем значение нулевого распределения в $0.842$, значит можно считать выборку нормальной."
   ]
  },
  {
   "cell_type": "markdown",
   "metadata": {},
   "source": [
    "Перейдем теперь к оценке дисперсии. Для этого используем критерий $\\chi^2$ в правостороннем случае.\n",
    "\n",
    "- *Постановка задачи*: имеет место альтернатива:\n",
    "$$\n",
    "\\begin{align*}\n",
    "    H_0: & \\sigma = 9, \\\\\n",
    "    H_1: & \\sigma > 9.\n",
    "\\end{align*}\n",
    "$$\n",
    "\n",
    "- *Рассчет статистики*: $$\\chi^2(X^n) = \\dfrac{S^2 (n-1)}{\\sigma^2}$$\n",
    "\n",
    "- *Нулевое распределение*: табличное из $\\chi^2 (n-1)$, в нашем случае $n = 10$.\n",
    "\n",
    "- *Уровень значимости*: оцениваем при правосторонней гипотезе следующим образом:\n",
    "$$p(\\chi^2) = 1 - F_{\\chi^2 (n-1)}. $$"
   ]
  },
  {
   "cell_type": "markdown",
   "metadata": {},
   "source": [
    "Сначала найдем значение статистики. Опять применим компьютер, благо уже все посчитано:"
   ]
  },
  {
   "cell_type": "code",
   "execution_count": 4,
   "metadata": {},
   "outputs": [
    {
     "name": "stdout",
     "output_type": "stream",
     "text": [
      "Значение статистики: 4.3765432098765435\n"
     ]
    }
   ],
   "source": [
    "chi_sq = np.sum((data - mu)**2) / (9**2)\n",
    "print('Значение статистики: {}'.format(chi_sq))"
   ]
  },
  {
   "cell_type": "code",
   "execution_count": 7,
   "metadata": {},
   "outputs": [
    {
     "name": "stdout",
     "output_type": "stream",
     "text": [
      "Отсечка проходит по 0.8849297659664597\n"
     ]
    }
   ],
   "source": [
    "import scipy.stats as st\n",
    "\n",
    "chi_sq_0 = st.chi2(9)\n",
    "print('Отсечка проходит по {}'.format(1 - chi_sq_0.cdf(chi_sq)))"
   ]
  },
  {
   "cell_type": "markdown",
   "metadata": {},
   "source": [
    "Заметич, что табличное значение нулевого распределения: 1.735 при уровне значимости $\\alpha = 0.05$. Тогда можно с уверенностью говорить, что гипотеза отвергается."
   ]
  }
 ],
 "metadata": {
  "kernelspec": {
   "display_name": "Python 3",
   "language": "python",
   "name": "python3"
  },
  "language_info": {
   "codemirror_mode": {
    "name": "ipython",
    "version": 3
   },
   "file_extension": ".py",
   "mimetype": "text/x-python",
   "name": "python",
   "nbconvert_exporter": "python",
   "pygments_lexer": "ipython3",
   "version": "3.9.13"
  }
 },
 "nbformat": 4,
 "nbformat_minor": 2
}
