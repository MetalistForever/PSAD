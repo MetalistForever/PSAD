{
  "cells": [
    {
      "cell_type": "markdown",
      "metadata": {
        "id": "SWpzzBKX5lab"
      },
      "source": [
        "# Библиотеки"
      ]
    },
    {
      "cell_type": "code",
      "execution_count": null,
      "metadata": {
        "id": "DVElVx3w5lag"
      },
      "outputs": [],
      "source": [
        "from zlib import crc32\n",
        "\n",
        "import numpy as np\n",
        "import pandas as pd\n",
        "import scipy.stats as st"
      ]
    },
    {
      "cell_type": "markdown",
      "metadata": {
        "id": "W10bESh65lah"
      },
      "source": [
        "# Код генерации выборки"
      ]
    },
    {
      "cell_type": "code",
      "execution_count": null,
      "metadata": {
        "id": "-dRusc3I5lai"
      },
      "outputs": [],
      "source": [
        "import re\n",
        "EMAIL_REGEX = re.compile(r\"[^@]+@phystech.edu\")\n",
        "\n",
        "def generate_dataset(code):\n",
        "    rs = np.random.RandomState(code)\n",
        "    size = rs.randint(low=5, high=10)\n",
        "    data = rs.randn(30, size)\n",
        "    for i in range(size):\n",
        "        data[:, i] += rs.uniform()*2-1.0\n",
        "    return data"
      ]
    },
    {
      "cell_type": "markdown",
      "metadata": {
        "id": "LXkXPYIz5laj"
      },
      "source": [
        "# Генерация выборки для вашей почты\n",
        "\n",
        "<span style=\"color:red\">\n",
        "    ВАЖНО!\n",
        "    Почта, которую укажете ниже и почта с которой Вы отправляете домашнее задание должна совпадать!\n",
        "    В момент проверки задания алгоритм генерирует выборку на основе почты из анкеты!\n",
        "</span>\n",
        "\n",
        "Внимательно проверьте почту для которой выполняется задание!"
      ]
    },
    {
      "cell_type": "code",
      "execution_count": null,
      "metadata": {
        "id": "h8bMsPHy5laj"
      },
      "outputs": [],
      "source": [
        "task = dict()\n",
        "task['mail'] = input(prompt='Enter your mail: ')\n",
        "assert EMAIL_REGEX.match(task['mail']), 'Not a mail in the phystech.edu domain'\n",
        "task['id'] = crc32(task['mail'].encode('utf-8'))\n",
        "task['data'] = generate_dataset(task['id'])\n",
        "\n",
        "task"
      ]
    },
    {
      "cell_type": "markdown",
      "metadata": {
        "id": "WprDKyMv5lak"
      },
      "source": [
        "# Работа с выборкой"
      ]
    },
    {
      "cell_type": "code",
      "execution_count": null,
      "metadata": {
        "id": "ZHQaq3RJ5lal"
      },
      "outputs": [],
      "source": [
        "data = task['data']"
      ]
    },
    {
      "cell_type": "markdown",
      "source": [
        "## Воспользуемся t-критерем для сравнения средних для всех пар столбцов из выборки. Для какого количества пар столбцов отвергается гипотеза о совпадении среднего?"
      ],
      "metadata": {
        "id": "UCa_tccEB_p4"
      }
    },
    {
      "cell_type": "code",
      "source": [
        "##################\n",
        "# your code here #\n",
        "##################"
      ],
      "metadata": {
        "id": "El_MUMwpB-Kn"
      },
      "execution_count": null,
      "outputs": []
    },
    {
      "cell_type": "markdown",
      "source": [
        "## Значение уровня значимости при введении поправки Бонферрони (alpha=0.05). Округлить до 3 знака после запятой."
      ],
      "metadata": {
        "id": "YExSyaevCC3i"
      }
    },
    {
      "cell_type": "code",
      "source": [
        "##################\n",
        "# your code here #\n",
        "##################"
      ],
      "metadata": {
        "id": "dPBz86r_CER4"
      },
      "execution_count": null,
      "outputs": []
    },
    {
      "cell_type": "markdown",
      "source": [
        "## Для какого количества пар столбцов отвергается гипотеза о совпадении среднего при использовании поправки Бонферрони?"
      ],
      "metadata": {
        "id": "00h-2d-TCFsx"
      }
    },
    {
      "cell_type": "code",
      "source": [
        "##################\n",
        "# your code here #\n",
        "##################"
      ],
      "metadata": {
        "id": "iVvF448vCHOK"
      },
      "execution_count": null,
      "outputs": []
    },
    {
      "cell_type": "markdown",
      "source": [
        "## Для какого количества пар столбцов отвергается гипотеза о совпадении среднего при использовании метода Холма?"
      ],
      "metadata": {
        "id": "xQFTt9Q5CH0d"
      }
    },
    {
      "cell_type": "code",
      "source": [
        "##################\n",
        "# your code here #\n",
        "##################"
      ],
      "metadata": {
        "id": "pdi0bE2vCJZR"
      },
      "execution_count": null,
      "outputs": []
    },
    {
      "cell_type": "markdown",
      "source": [
        "## Оценка m0 по методу Шведера-Спьётволла (lambda = 0.5)"
      ],
      "metadata": {
        "id": "GAdKb8nACKd1"
      }
    },
    {
      "cell_type": "code",
      "source": [
        "##################\n",
        "# your code here #\n",
        "##################"
      ],
      "metadata": {
        "id": "9f8wC5leCMNQ"
      },
      "execution_count": null,
      "outputs": []
    }
  ],
  "metadata": {
    "kernelspec": {
      "display_name": "Python 3",
      "language": "python",
      "name": "python3"
    },
    "language_info": {
      "codemirror_mode": {
        "name": "ipython",
        "version": 3
      },
      "file_extension": ".py",
      "mimetype": "text/x-python",
      "name": "python",
      "nbconvert_exporter": "python",
      "pygments_lexer": "ipython3",
      "version": "3.7.3"
    },
    "colab": {
      "name": "sem4.ipynb",
      "provenance": []
    }
  },
  "nbformat": 4,
  "nbformat_minor": 0
}